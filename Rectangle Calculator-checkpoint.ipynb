{
 "cells": [
  {
   "cell_type": "code",
   "execution_count": 42,
   "id": "7bd50548",
   "metadata": {},
   "outputs": [
    {
     "name": "stdout",
     "output_type": "stream",
     "text": [
      "what is the width of the rectangle? 10\n"
     ]
    }
   ],
   "source": [
    "width=input('what is the width of the rectangle? ')"
   ]
  },
  {
   "cell_type": "code",
   "execution_count": 4,
   "id": "e908841b",
   "metadata": {},
   "outputs": [
    {
     "data": {
      "text/plain": [
       "'10'"
      ]
     },
     "execution_count": 4,
     "metadata": {},
     "output_type": "execute_result"
    }
   ],
   "source": [
    "width"
   ]
  },
  {
   "cell_type": "code",
   "execution_count": 5,
   "id": "40842ec2",
   "metadata": {},
   "outputs": [
    {
     "data": {
      "text/plain": [
       "str"
      ]
     },
     "execution_count": 5,
     "metadata": {},
     "output_type": "execute_result"
    }
   ],
   "source": [
    "type(width)"
   ]
  },
  {
   "cell_type": "code",
   "execution_count": 29,
   "id": "b0ab41c0",
   "metadata": {},
   "outputs": [],
   "source": [
    "width2=int(width)"
   ]
  },
  {
   "cell_type": "code",
   "execution_count": 30,
   "id": "daa8953d",
   "metadata": {},
   "outputs": [
    {
     "data": {
      "text/plain": [
       "int"
      ]
     },
     "execution_count": 30,
     "metadata": {},
     "output_type": "execute_result"
    }
   ],
   "source": [
    "type(width2)"
   ]
  },
  {
   "cell_type": "code",
   "execution_count": 43,
   "id": "e0602163",
   "metadata": {},
   "outputs": [
    {
     "name": "stdout",
     "output_type": "stream",
     "text": [
      "what is the length of the rectangle? 50\n"
     ]
    }
   ],
   "source": [
    "length=input('what is the length of the rectangle? ' )"
   ]
  },
  {
   "cell_type": "code",
   "execution_count": 10,
   "id": "91888b36",
   "metadata": {},
   "outputs": [
    {
     "data": {
      "text/plain": [
       "'50'"
      ]
     },
     "execution_count": 10,
     "metadata": {},
     "output_type": "execute_result"
    }
   ],
   "source": [
    "length"
   ]
  },
  {
   "cell_type": "code",
   "execution_count": 11,
   "id": "200fd79a",
   "metadata": {},
   "outputs": [
    {
     "data": {
      "text/plain": [
       "str"
      ]
     },
     "execution_count": 11,
     "metadata": {},
     "output_type": "execute_result"
    }
   ],
   "source": [
    "type(length)"
   ]
  },
  {
   "cell_type": "code",
   "execution_count": 31,
   "id": "4bc96c56",
   "metadata": {},
   "outputs": [],
   "source": [
    "length2=int(length)"
   ]
  },
  {
   "cell_type": "code",
   "execution_count": 32,
   "id": "6a34cef5",
   "metadata": {},
   "outputs": [
    {
     "data": {
      "text/plain": [
       "int"
      ]
     },
     "execution_count": 32,
     "metadata": {},
     "output_type": "execute_result"
    }
   ],
   "source": [
    "type(length2)"
   ]
  },
  {
   "cell_type": "code",
   "execution_count": 33,
   "id": "f655614c",
   "metadata": {},
   "outputs": [],
   "source": [
    "area=length2*width2"
   ]
  },
  {
   "cell_type": "code",
   "execution_count": 48,
   "id": "e22a14e9",
   "metadata": {},
   "outputs": [
    {
     "data": {
      "text/plain": [
       "500"
      ]
     },
     "execution_count": 48,
     "metadata": {},
     "output_type": "execute_result"
    }
   ],
   "source": [
    "area"
   ]
  },
  {
   "cell_type": "code",
   "execution_count": 49,
   "id": "36d97ff9",
   "metadata": {},
   "outputs": [],
   "source": [
    "area2=str(area)"
   ]
  },
  {
   "cell_type": "code",
   "execution_count": 44,
   "id": "133a752a",
   "metadata": {},
   "outputs": [
    {
     "name": "stdout",
     "output_type": "stream",
     "text": [
      "the area of the rectangle is 500\n"
     ]
    }
   ],
   "source": [
    "print('the area of the rectangle is '+ area2)"
   ]
  },
  {
   "cell_type": "code",
   "execution_count": 2,
   "id": "6e004a71",
   "metadata": {},
   "outputs": [
    {
     "name": "stdout",
     "output_type": "stream",
     "text": [
      "What is the width of the rectangle in feet? 10\n"
     ]
    }
   ],
   "source": [
    "width=input('What is the width of the rectangle in feet? ')#answer in feet"
   ]
  },
  {
   "cell_type": "code",
   "execution_count": 3,
   "id": "f70ad9a6",
   "metadata": {},
   "outputs": [],
   "source": [
    "width=int(width)"
   ]
  },
  {
   "cell_type": "code",
   "execution_count": 4,
   "id": "4e055e4e",
   "metadata": {},
   "outputs": [],
   "source": [
    "width=width*12 #converting to inches"
   ]
  },
  {
   "cell_type": "code",
   "execution_count": 5,
   "id": "2ada7287",
   "metadata": {},
   "outputs": [
    {
     "data": {
      "text/plain": [
       "120"
      ]
     },
     "execution_count": 5,
     "metadata": {},
     "output_type": "execute_result"
    }
   ],
   "source": [
    "width"
   ]
  },
  {
   "cell_type": "code",
   "execution_count": 6,
   "id": "cd727c5e",
   "metadata": {},
   "outputs": [
    {
     "name": "stdout",
     "output_type": "stream",
     "text": [
      "what is the length of the rectangle in feet? 50\n"
     ]
    }
   ],
   "source": [
    "length=input('what is the length of the rectangle in feet? ')"
   ]
  },
  {
   "cell_type": "code",
   "execution_count": 7,
   "id": "b7aeb6aa",
   "metadata": {},
   "outputs": [],
   "source": [
    "length=int(length)"
   ]
  },
  {
   "cell_type": "code",
   "execution_count": 8,
   "id": "f03b1d7a",
   "metadata": {},
   "outputs": [],
   "source": [
    "length=length*12 \n",
    "#converting to inches"
   ]
  },
  {
   "cell_type": "code",
   "execution_count": 10,
   "id": "a477d7e2",
   "metadata": {},
   "outputs": [],
   "source": [
    "area=length*width"
   ]
  },
  {
   "cell_type": "code",
   "execution_count": 11,
   "id": "8476875d",
   "metadata": {},
   "outputs": [],
   "source": [
    "area2=str(area)"
   ]
  },
  {
   "cell_type": "code",
   "execution_count": 12,
   "id": "05f184a9",
   "metadata": {},
   "outputs": [
    {
     "name": "stdout",
     "output_type": "stream",
     "text": [
      "The area of the rectangle in inches is 72000\n"
     ]
    }
   ],
   "source": [
    "print('The area of the rectangle in inches is '+area2)"
   ]
  },
  {
   "cell_type": "code",
   "execution_count": 13,
   "id": "978ad73a",
   "metadata": {},
   "outputs": [
    {
     "name": "stdout",
     "output_type": "stream",
     "text": [
      "The area of the rectangle in inches is  72000\n"
     ]
    }
   ],
   "source": [
    "print('The area of the rectangle in inches is ', area2)"
   ]
  }
 ],
 "metadata": {
  "kernelspec": {
   "display_name": "Python 3 (ipykernel)",
   "language": "python",
   "name": "python3"
  },
  "language_info": {
   "codemirror_mode": {
    "name": "ipython",
    "version": 3
   },
   "file_extension": ".py",
   "mimetype": "text/x-python",
   "name": "python",
   "nbconvert_exporter": "python",
   "pygments_lexer": "ipython3",
   "version": "3.9.12"
  }
 },
 "nbformat": 4,
 "nbformat_minor": 5
}
